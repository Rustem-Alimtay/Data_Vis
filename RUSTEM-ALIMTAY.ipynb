{
 "cells": [
  {
   "cell_type": "markdown",
   "metadata": {
    "ExecuteTime": {
     "end_time": "2020-02-12T17:56:22.948195Z",
     "start_time": "2020-02-12T17:56:22.944176Z"
    }
   },
   "source": [
    "### Lab 2: Hyponyms and Hypernyms"
   ]
  },
  {
   "cell_type": "code",
   "execution_count": 1,
   "metadata": {
    "ExecuteTime": {
     "end_time": "2020-02-12T14:12:16.470920Z",
     "start_time": "2020-02-12T14:12:15.640262Z"
    }
   },
   "outputs": [
    {
     "name": "stdout",
     "output_type": "stream",
     "text": [
      "4\n"
     ]
    }
   ],
   "source": [
    "import pandas as pd\n",
    "import wikipedia\n",
    "import os\n",
    "from tqdm import tqdm\n",
    "from joblib import Parallel, delayed\n",
    "import multiprocessing\n",
    "import networkx as nx\n",
    "import matplotlib.pyplot as plt\n",
    "from collections import defaultdict\n",
    "from ipywidgets import interact, interactive, fixed, interact_manual,widgets\n",
    "from IPython.display import display\n",
    "import json\n",
    "num_cores = multiprocessing.cpu_count()\n",
    "print(num_cores)\n",
    "wikipedia.set_lang(\"ru\")\n",
    "# DATA_PATH_LIST = ['D:','src2','taxonomy-enrichment','data','training_data']\n",
    "DATA_PATH_LIST = ['.']\n",
    "EMBEDDING_MODEL_FILENAME = \"wiki_node2vec.bin\"\n",
    "DATA_PATH=\"/\".join(DATA_PATH_LIST+[\"training_nouns.tsv\"])\n",
    "df = pd.read_csv(DATA_PATH,sep='\\t')\n",
    "%matplotlib inline"
   ]
  },
  {
   "cell_type": "code",
   "execution_count": 2,
   "metadata": {
    "ExecuteTime": {
     "end_time": "2020-02-12T14:12:16.475780Z",
     "start_time": "2020-02-12T14:12:16.473114Z"
    }
   },
   "outputs": [],
   "source": [
    "def prestr(x):\n",
    "    return str(x).replace('\\\"','').replace(\"'\",'\"')"
   ]
  },
  {
   "cell_type": "code",
   "execution_count": 3,
   "metadata": {
    "ExecuteTime": {
     "end_time": "2020-02-12T14:12:16.685506Z",
     "start_time": "2020-02-12T14:12:16.477634Z"
    }
   },
   "outputs": [],
   "source": [
    "class DefDict(defaultdict):\n",
    "    def __missing__(self, key):\n",
    "        self[key] = key\n",
    "        return key\n",
    "    \n",
    "idx2syns = DefDict(lambda x:x)\n",
    "for val in df.values:\n",
    "    idx2syns[val[0]]=val[1]\n",
    "    try:\n",
    "        pidxs = json.loads(prestr(val[2]))\n",
    "        concp = [el.split(\",\")[0] for el in json.loads(prestr(val[3]))]\n",
    "        idx2syns.update(dict(zip(pidxs,concp)))\n",
    "    except:\n",
    "        print(prestr(val[2]))\n",
    "        print(prestr(val[3]))"
   ]
  },
  {
   "cell_type": "markdown",
   "metadata": {
    "ExecuteTime": {
     "end_time": "2020-02-12T17:12:34.060220Z",
     "start_time": "2020-02-12T17:12:34.055235Z"
    }
   },
   "source": [
    "### Interactive visualization of hyponyms and hypernyms"
   ]
  },
  {
   "cell_type": "code",
   "execution_count": 4,
   "metadata": {
    "ExecuteTime": {
     "end_time": "2020-02-12T17:11:37.966489Z",
     "start_time": "2020-02-12T17:11:37.931688Z"
    }
   },
   "outputs": [
    {
     "data": {
      "application/vnd.jupyter.widget-view+json": {
       "model_id": "17f118f27246493cb597d49ee3edee23",
       "version_major": 2,
       "version_minor": 0
      },
      "text/plain": [
       "Button(description='Draw', style=ButtonStyle())"
      ]
     },
     "metadata": {},
     "output_type": "display_data"
    },
    {
     "data": {
      "application/vnd.jupyter.widget-view+json": {
       "model_id": "4cdaec3ad8cd46c7b94adb26ae28f157",
       "version_major": 2,
       "version_minor": 0
      },
      "text/plain": [
       "Text(value='МАТЬ', description='String:', placeholder='Query')"
      ]
     },
     "metadata": {},
     "output_type": "display_data"
    }
   ],
   "source": [
    "button = widgets.Button(description=\"Draw\")\n",
    "query = widgets.Text(\n",
    "    value='МАТЬ',\n",
    "    placeholder='Query',\n",
    "    description='String:',\n",
    "    disabled=False\n",
    ")\n",
    "display(button,query)\n",
    "\n",
    "\n",
    "\n",
    "\n",
    "def creategraph(df):\n",
    "    res = []\n",
    "    for row in df.values:\n",
    "        cohyps = row[1].split(\",\")\n",
    "        for idx,cohyp in enumerate(cohyps):\n",
    "            for parent in json.loads(prestr(row[2])):\n",
    "                res.append((row[0]+'-'+str(idx),parent))\n",
    "    return res\n",
    "\n",
    "def graphdraw(b):\n",
    "    print(\"graphdraw\",query.value)\n",
    "    subset = df[df['TEXT'].str.contains(query.value.upper())]\n",
    "    g = nx.DiGraph()\n",
    "    for el in subset.values:\n",
    "        cohyps = el[1].split(\",\")\n",
    "        print(cohyps)\n",
    "        syns = idx2syns[el[0]]\n",
    "        for child in cohyps:\n",
    "            for parent in json.loads(prestr(el[2])):\n",
    "                ed = g.add_edge(child,idx2syns[parent],label=\"is a\")\n",
    "            \n",
    "    plt.figure(figsize=(15,15))\n",
    "    pos = nx.nx_agraph.graphviz_layout(g)\n",
    "    nx.draw(g,with_labels=True,pos=pos)\n",
    "#     edge_labels=nx.draw_networkx_edge_labels(g,pos=pos)\n",
    "    plt.show()\n",
    "button.on_click(graphdraw)"
   ]
  },
  {
   "cell_type": "markdown",
   "metadata": {
    "ExecuteTime": {
     "end_time": "2020-02-12T11:38:20.619158Z",
     "start_time": "2020-02-12T11:38:20.614734Z"
    }
   },
   "source": [
    "### Pattern extractor\n",
    "\n",
    "Yargy — библиотека для извлечения структурированной информации из текстов на русском языке. Правила описываются контекстно-свободными грамматиками и словарями ключевых слов. Банк готовых правил для имён, дат, адресов и других сущностей доступен в репозитории Natasha.\n",
    "* https://yargy.readthedocs.io/ru/latest/\n",
    "* http://pymorphy2.readthedocs.io/en/latest/user/grammemes.html\n",
    "* https://github.com/natasha/natasha"
   ]
  },
  {
   "cell_type": "markdown",
   "metadata": {
    "ExecuteTime": {
     "start_time": "2020-02-12T13:09:50.486Z"
    }
   },
   "source": [
    "### Токенизатор"
   ]
  },
  {
   "cell_type": "code",
   "execution_count": 5,
   "metadata": {
    "ExecuteTime": {
     "end_time": "2020-02-12T14:12:16.819980Z",
     "start_time": "2020-02-12T14:12:16.708109Z"
    }
   },
   "outputs": [
    {
     "name": "stdout",
     "output_type": "stream",
     "text": [
      "['Ростов', '-', 'на', '-', 'Дону']\n",
      "['Длительностью', '18', 'ч', '.', '10', 'мин', '.']\n",
      "['Яндекс', '.', 'Такси']\n",
      "['π', '≈', '3', '.', '1415']\n",
      "['1', '500', '000', '$']\n",
      "['http', ':', '/', '/', 'vk', '.', 'com']\n"
     ]
    }
   ],
   "source": [
    "from yargy.tokenizer import MorphTokenizer\n",
    "\n",
    "\n",
    "tokenizer = MorphTokenizer()\n",
    "text = '''Ростов-на-Дону\n",
    "Длительностью 18ч. 10мин.\n",
    "Яндекс.Такси\n",
    "π ≈ 3.1415\n",
    "1 500 000$\n",
    "http://vk.com\n",
    "'''\n",
    "for line in text.splitlines():\n",
    "    print([_.value for _ in tokenizer(line)])"
   ]
  },
  {
   "cell_type": "markdown",
   "metadata": {
    "ExecuteTime": {
     "end_time": "2020-02-12T13:11:56.582467Z",
     "start_time": "2020-02-12T13:11:56.566175Z"
    }
   },
   "source": [
    "# Газеттир\n",
    "Газеттир нужен для удобной работы с последовательностью слов. Например, можно написать:"
   ]
  },
  {
   "cell_type": "code",
   "execution_count": 6,
   "metadata": {
    "ExecuteTime": {
     "end_time": "2020-02-12T14:12:16.844412Z",
     "start_time": "2020-02-12T14:12:16.821582Z"
    }
   },
   "outputs": [],
   "source": [
    "from yargy import or_, rule\n",
    "from yargy.predicates import normalized\n",
    "\n",
    "RULE = or_(\n",
    "    rule(normalized('dvd'), '-', normalized('диск')),\n",
    "    rule(normalized('видео'), normalized('файл'))\n",
    ")"
   ]
  },
  {
   "cell_type": "code",
   "execution_count": 7,
   "metadata": {
    "ExecuteTime": {
     "end_time": "2020-02-12T14:12:16.968622Z",
     "start_time": "2020-02-12T14:12:16.846737Z"
    }
   },
   "outputs": [
    {
     "name": "stdout",
     "output_type": "stream",
     "text": [
      "['Видео', 'файл']\n",
      "['dvd', '-', 'диске']\n"
     ]
    }
   ],
   "source": [
    "from yargy import Parser\n",
    "from yargy.pipelines import morph_pipeline\n",
    "\n",
    "\n",
    "RULE = morph_pipeline([\n",
    "    'dvd-диск',\n",
    "    'видео файл',\n",
    "    'видеофильм',\n",
    "    'газета',\n",
    "    'электронный дневник',\n",
    "    'эссе',\n",
    "])\n",
    "\n",
    "parser = Parser(RULE)\n",
    "text = 'Видео файл на dvd-диске'\n",
    "for match in parser.findall(text):\n",
    "    print([_.value for _ in match.tokens])"
   ]
  },
  {
   "cell_type": "code",
   "execution_count": 8,
   "metadata": {
    "ExecuteTime": {
     "end_time": "2020-02-12T14:12:54.576104Z",
     "start_time": "2020-02-12T14:12:54.511149Z"
    }
   },
   "outputs": [
    {
     "name": "stdout",
     "output_type": "stream",
     "text": [
      "['Чеченской', 'республике']\n",
      "['Донецкая', 'народная', 'республика']\n"
     ]
    }
   ],
   "source": [
    "from yargy import Parser, rule, and_\n",
    "from yargy.predicates import gram, is_capitalized, dictionary\n",
    "\n",
    "\n",
    "GEO = rule(\n",
    "    and_(\n",
    "        gram('ADJF'),  # так помечается прилагательное, остальные пометки описаны в\n",
    "                       # http://pymorphy2.readthedocs.io/en/latest/user/grammemes.html\n",
    "        is_capitalized()\n",
    "    ),\n",
    "    gram('ADJF').optional().repeatable(),\n",
    "    dictionary({\n",
    "        'федерация',\n",
    "        'республика'\n",
    "    })\n",
    ")\n",
    "\n",
    "\n",
    "parser = Parser(GEO)\n",
    "text = '''\n",
    "В Чеченской республике на день рождения ...\n",
    "Донецкая народная республика провозгласила ...\n",
    "Башня Федерация — одна из самых высоких ...\n",
    "'''\n",
    "for match in parser.findall(text):\n",
    "    print([_.value for _ in match.tokens])"
   ]
  },
  {
   "cell_type": "markdown",
   "metadata": {
    "ExecuteTime": {
     "end_time": "2020-02-12T13:13:57.167613Z",
     "start_time": "2020-02-12T13:13:57.159920Z"
    }
   },
   "source": [
    "### Предикаты\n",
    "\n",
    "Предикат — функция, которая принимает на вход токен и возвращает True или False. В Yargy встроено много готовых предикатов. Полный список есть в справочнике. Предикаты комбинируются с помощью and_, or_ и not_."
   ]
  },
  {
   "cell_type": "code",
   "execution_count": 9,
   "metadata": {
    "ExecuteTime": {
     "end_time": "2020-02-12T14:12:17.173350Z",
     "start_time": "2020-02-12T14:12:17.136108Z"
    }
   },
   "outputs": [
    {
     "name": "stdout",
     "output_type": "stream",
     "text": [
      "True\n",
      "True\n"
     ]
    }
   ],
   "source": [
    "from yargy import and_, not_\n",
    "from yargy.tokenizer import MorphTokenizer\n",
    "from yargy.predicates import is_capitalized, eq\n",
    "\n",
    "\n",
    "tokenizer = MorphTokenizer()\n",
    "token = next(tokenizer('Стали'))\n",
    "\n",
    "predicate = is_capitalized()\n",
    "print(predicate(token))\n",
    "\n",
    "predicate = and_(\n",
    "    is_capitalized(),\n",
    "    not_(eq('марки'))\n",
    ")\n",
    "print(predicate(token))"
   ]
  },
  {
   "cell_type": "markdown",
   "metadata": {
    "ExecuteTime": {
     "end_time": "2020-02-12T13:15:56.600763Z",
     "start_time": "2020-02-12T13:15:56.596609Z"
    }
   },
   "source": [
    "### Грамматики\n",
    "В Yargy используется специальный DSL для описания грамматик. Любую контекстно-свободную грамматику можно описать с помощью конструкций Питона. Например, есть примитивная грамматика для размеров одежды:\n",
    "\n",
    "KEY -> р. | размер\n",
    "\n",
    "VALUE -> S | M | L\n",
    "\n",
    "SIZE -> KEY VALUE\n",
    "\n"
   ]
  },
  {
   "cell_type": "code",
   "execution_count": 10,
   "metadata": {
    "ExecuteTime": {
     "end_time": "2020-02-12T14:14:21.602988Z",
     "start_time": "2020-02-12T14:14:21.589310Z"
    }
   },
   "outputs": [
    {
     "data": {
      "text/plain": [
       "SIZE -> KEY VALUE\n",
       "KEY -> 'р' '.' | 'размер'\n",
       "VALUE -> 'S' | 'M' | 'L' | 'XS'\n"
      ]
     },
     "execution_count": 10,
     "metadata": {},
     "output_type": "execute_result"
    }
   ],
   "source": [
    "from yargy import rule, or_\n",
    "\n",
    "\n",
    "KEY = or_(\n",
    "    rule('р', '.'),\n",
    "    rule('размер')\n",
    ").named('KEY')\n",
    "VALUE = or_(\n",
    "    rule('S'),\n",
    "    rule('M'),\n",
    "    rule('L'),\n",
    "    rule('XS'),\n",
    ").named('VALUE')\n",
    "SIZE = rule(\n",
    "    KEY,\n",
    "    VALUE\n",
    ").named('SIZE')\n",
    "SIZE.normalized.as_bnf"
   ]
  },
  {
   "cell_type": "code",
   "execution_count": 11,
   "metadata": {
    "ExecuteTime": {
     "end_time": "2020-02-12T14:14:27.723857Z",
     "start_time": "2020-02-12T14:14:27.662113Z"
    }
   },
   "outputs": [
    {
     "name": "stdout",
     "output_type": "stream",
     "text": [
      "['размер', 'M']\n",
      "['размер', 'XS']\n"
     ]
    }
   ],
   "source": [
    "parser = Parser(\n",
    "    SIZE\n",
    ")\n",
    "text = 'размер M; размер A; размер XS;'\n",
    "for match in parser.findall(text):\n",
    "    print([_.value for _ in match.tokens])"
   ]
  },
  {
   "cell_type": "code",
   "execution_count": 12,
   "metadata": {
    "ExecuteTime": {
     "end_time": "2020-02-12T14:12:19.308726Z",
     "start_time": "2020-02-12T14:12:17.354354Z"
    }
   },
   "outputs": [],
   "source": [
    "from yargy import Parser, rule, and_, or_, not_\n",
    "from yargy.interpretation import fact, attribute\n",
    "from yargy.predicates import gram, is_capitalized, dictionary, eq\n",
    "import re\n",
    "import pandas as pd\n",
    "from tqdm import tqdm_notebook\n",
    "from gensim import utils"
   ]
  },
  {
   "cell_type": "code",
   "execution_count": 13,
   "metadata": {
    "ExecuteTime": {
     "end_time": "2020-02-12T14:12:19.323139Z",
     "start_time": "2020-02-12T14:12:19.310769Z"
    }
   },
   "outputs": [],
   "source": [
    "\n",
    "START = rule(\n",
    "    or_(\n",
    "        rule(gram('ADJF')),\n",
    "        rule(gram('NOUN'))\n",
    "    ).optional(),\n",
    "    gram('NOUN')\n",
    ")\n",
    "\n",
    "START_S = or_(\n",
    "    eq('такой'),\n",
    "    eq('такие'),\n",
    ")\n",
    "\n",
    "KAK = eq('как')\n",
    "INCLUDING = or_(\n",
    "    or_(\n",
    "        eq('в'),\n",
    "        eq('том'),\n",
    "        eq('числе'),\n",
    "    ),\n",
    "    eq('включающий'),\n",
    "    or_(\n",
    "        eq('включающий'),\n",
    "        eq('в'),\n",
    "        eq('себя'),\n",
    "    ),\n",
    "    or_(\n",
    "        eq('включающие'),\n",
    "        eq('в'),\n",
    "        eq('себя'),\n",
    "    ),\n",
    "    eq('включающие'),\n",
    "    eq('особенно'),\n",
    "\n",
    ")\n",
    "\n",
    "MID_S = or_(\n",
    "    rule(\n",
    "        or_(\n",
    "            eq('такой'),\n",
    "            eq('такие'),\n",
    "        ),\n",
    "        eq('как')\n",
    "    )\n",
    ")\n",
    "ATAKJE = rule(\n",
    "    eq(','),\n",
    "    eq('а'),\n",
    "    eq('также')\n",
    ")\n",
    "\n",
    "MID = or_(\n",
    "    rule(\n",
    "        eq('это')\n",
    "    ),\n",
    "    rule(\n",
    "        eq('—')\n",
    "    ),\n",
    "    rule(\n",
    "        eq('—'),\n",
    "        eq('это')\n",
    "    ),\n",
    "    rule(\n",
    "        eq('—'),\n",
    "        not_(eq('км'))\n",
    "    ),\n",
    "    rule(\n",
    "        or_(\n",
    "            eq('и'),\n",
    "            eq('или'),\n",
    "        ),\n",
    "        eq('другие')\n",
    "    )\n",
    ")\n",
    "\n",
    "END = or_(\n",
    "    rule(\n",
    "        gram('NOUN'),\n",
    "        gram('NOUN')\n",
    "    ),\n",
    "    rule(\n",
    "        gram('ADJF').repeatable(),\n",
    "        gram('NOUN')\n",
    "    ),\n",
    "    rule(\n",
    "        gram('ADJF'),\n",
    "        gram('ADJF').repeatable(),\n",
    "        gram('NOUN')\n",
    "    ),\n",
    "    rule(\n",
    "        gram('NOUN').repeatable(),\n",
    "        gram('ADJF'),\n",
    "        gram('NOUN').repeatable()\n",
    "    ),\n",
    "    rule(\n",
    "        gram('NOUN').repeatable()\n",
    "    )\n",
    ")\n",
    "\n",
    "Item = fact(\n",
    "    'Item',\n",
    "    [attribute('titles').repeatable()]\n",
    ")\n",
    "\n",
    "\n",
    "IGNORE = rule(\n",
    "    '(',\n",
    "    not_(eq(')')).repeatable(),\n",
    "    ')'\n",
    ")\n",
    "\n",
    "ITEM = rule(\n",
    "    IGNORE.interpretation(\n",
    "        Item.titles\n",
    "    ),\n",
    "    eq(',').optional() \n",
    ").repeatable().interpretation(\n",
    "    Item\n",
    ")"
   ]
  },
  {
   "cell_type": "code",
   "execution_count": 14,
   "metadata": {
    "ExecuteTime": {
     "end_time": "2020-02-12T14:12:19.434702Z",
     "start_time": "2020-02-12T14:12:19.324707Z"
    }
   },
   "outputs": [],
   "source": [
    "def get_hyperonyms(main_word):\n",
    "    HYPONYM = eq(utils.deaccent(main_word))\n",
    "    RULE = or_(\n",
    "        rule(HYPONYM, ATAKJE, START, MID, END),\n",
    "        rule(HYPONYM, MID, END),\n",
    "        rule(START_S, END, KAK, HYPONYM),\n",
    "        rule(END, INCLUDING, HYPONYM)\n",
    "    )\n",
    "    parser = Parser(RULE) \n",
    "    text = utils.deaccent(wikipedia.summary(main_word))\n",
    "    print(text)\n",
    "    text = re.sub(r'\\(.+?\\)', '', text)\n",
    "    text = text.lower().replace('* сергии радонежскии* ', '')\n",
    "    for idx, match in enumerate(parser.findall(text.lower())):\n",
    "        k = [_.value for _ in match.tokens]\n",
    "        print(k)"
   ]
  },
  {
   "cell_type": "code",
   "execution_count": 15,
   "metadata": {
    "ExecuteTime": {
     "end_time": "2020-02-12T14:12:22.648500Z",
     "start_time": "2020-02-12T14:12:19.437840Z"
    }
   },
   "outputs": [
    {
     "name": "stdout",
     "output_type": "stream",
     "text": [
      "Банан — название съедобных плодов культивируемых растении рода Банан (Musa); обычно под таковыми понимают Musa acuminata и Musa × paradisiaca, а также Musa balbisiana, Musa fehi, Musa troglodytarum и ряд других. Также бананами могут называть плоды Ensete ventricosum (строго говоря, являющегося представителем другого рода семеиства Банановые). С ботаническои точки зрения банан является ягодои, многосеменнои и толстокожеи. У культурных форм часто отсутствуют семена, ненужные при вегетативном размножении. Плоды имеют длину 6—30 см и диаметр 2—5 см. Соплодия могут состоять из 300 плодов и иметь массу до 50—60 кг.\n",
      "Бананы — одна из древнеиших пищевых культур, а для тропических стран важнеишее пищевое растение и главная статья экспорта. Спелые бананы широко употребляются в пищу по всему миру, их используют при приготовлении большого количества блюд. Помимо употребления в свежем виде, в кухне некоторых народов бананы могут зажариваться, или вариться как в очищенном, так и в неочищенном виде. Их также сушат, консервируют, используют для приготовления банановои муки, мармелада, сиропов, вин. Бананы применяются также в качестве корма для скота. Запах бананов определяют изовалерианово-изоамиловыи и уксусно-изоамиловыи эфиры. Выращиваются в тропических и субтропических раионах с жарким влажным климатом. Существует большое число сортов съедобных видов банана.\n",
      "Размер, цвет и форма могут значительно различаться в зависимости от вида или сорта, но чаще всего они имеют продолговатую цилиндрическую или трехгранную форму, выпрямленную либо закругленную. Длина плода варьирует в пределах от 3 до 40 см, толщина — от 2 до 8 см. Цвет кожицы может быть желтым, зеленым, красным или даже серебристым. Мякоть белая, кремовая, желтая или оранжевая. В незрелом состоянии она твердая и клеикая, но по мере созревания становится мягкои и сочнои.\n",
      "Во многих странах бананы являются одним из основных источников питания — например, только в Эквадоре годовое потребление этого продукта составляет 73,8 кг на душу населения (для сравнения, в России этот показатель равен 7,29 кг). Существенную долю потребления бананы также составляют в Бурунди (189,4 кг), Самоа (85,0 кг), Коморских Островах (77,8 кг) и на Филиппинах (40,6 кг).\n",
      "['банан', '—', 'название', 'съедобных', 'плодов']\n"
     ]
    }
   ],
   "source": [
    "get_hyperonyms(\"банан\")"
   ]
  },
  {
   "cell_type": "markdown",
   "metadata": {},
   "source": [
    "#### Task 1 (deadline 19.02.2020 24:00)\n",
    "* Find your name on the spreadsheet https://docs.google.com/spreadsheets/d/1RR2I6toCkebbGU1UK83HS70Ru_l0_o-nnZIHyiFB0No/edit?usp=sharing. In opposite of your name there are 24 words of hyponyms, you have to insert five corresponding hypernyms next to them. Examples of hyponyms and hyperonyms relationship you can find above in the current Jupiter notebook.\n",
    "* Find for each pair of hyponyms and hypernyms a corresponding snippet of a text with their mentions. The source of the text can be any free resources, e.g., Wikipedia, Google, Yandex, others. You should save the snippets and their URLs within the lab2 folder in your NLP git-repo with .csv file-extension in a single file.\n",
    "\n",
    "#### Task 2 (deadline 26.02.2020 24:00)\n",
    "* It would be best if you created a pandas DataFrame of the texts from the previous task. And apply to the DataFrame the function 'get_hyperonyms,' which must return the list of the corresponding hypernyms from the text automatically. If there are errors or misses, you should fix them in the code for your case of the 24 words. Nevertheless, it is strictly prohibited to use hard coding. Save your notebook with parser code within the lab2 folder in your NLP git-repo."
   ]
  },
  {
   "cell_type": "code",
   "execution_count": 16,
   "metadata": {},
   "outputs": [
    {
     "data": {
      "text/plain": [
       "'C:\\\\Users\\\\User'"
      ]
     },
     "execution_count": 16,
     "metadata": {},
     "output_type": "execute_result"
    }
   ],
   "source": [
    "pwd"
   ]
  },
  {
   "cell_type": "code",
   "execution_count": 17,
   "metadata": {},
   "outputs": [
    {
     "name": "stdout",
     "output_type": "stream",
     "text": [
      "C:\\Users\\User\\Desktop\n"
     ]
    }
   ],
   "source": [
    "cd C:\\\\Users\\\\User\\Desktop"
   ]
  },
  {
   "cell_type": "code",
   "execution_count": 18,
   "metadata": {},
   "outputs": [
    {
     "name": "stdout",
     "output_type": "stream",
     "text": [
      "C:\\Users\\User\\Desktop\\lab2\n"
     ]
    }
   ],
   "source": [
    "cd C:\\Users\\User\\Desktop\\lab2"
   ]
  },
  {
   "cell_type": "code",
   "execution_count": 20,
   "metadata": {},
   "outputs": [
    {
     "data": {
      "text/html": [
       "<div>\n",
       "<style scoped>\n",
       "    .dataframe tbody tr th:only-of-type {\n",
       "        vertical-align: middle;\n",
       "    }\n",
       "\n",
       "    .dataframe tbody tr th {\n",
       "        vertical-align: top;\n",
       "    }\n",
       "\n",
       "    .dataframe thead th {\n",
       "        text-align: right;\n",
       "    }\n",
       "</style>\n",
       "<table border=\"1\" class=\"dataframe\">\n",
       "  <thead>\n",
       "    <tr style=\"text-align: right;\">\n",
       "      <th></th>\n",
       "      <th>HYPONYM</th>\n",
       "      <th>HYPERNYM</th>\n",
       "      <th>HYPERNYM.1</th>\n",
       "      <th>HYPERNYM.2</th>\n",
       "      <th>HYPERNYM.3</th>\n",
       "      <th>HYPERNYM.4</th>\n",
       "    </tr>\n",
       "  </thead>\n",
       "  <tbody>\n",
       "    <tr>\n",
       "      <th>0</th>\n",
       "      <td>НЕДОФИНАНСИРОВАНИЕ</td>\n",
       "      <td>финансирование</td>\n",
       "      <td>финансы</td>\n",
       "      <td>деньги</td>\n",
       "      <td>нехватка</td>\n",
       "      <td>отсутствие средств</td>\n",
       "    </tr>\n",
       "    <tr>\n",
       "      <th>1</th>\n",
       "      <td>НЕЗАБУДКА</td>\n",
       "      <td>растения</td>\n",
       "      <td>трава</td>\n",
       "      <td>садовые растения</td>\n",
       "      <td>болотная</td>\n",
       "      <td>однолетняя и многолетняя</td>\n",
       "    </tr>\n",
       "    <tr>\n",
       "      <th>2</th>\n",
       "      <td>НЕЙЗИЛЬБЕР</td>\n",
       "      <td>бериллий</td>\n",
       "      <td>золото</td>\n",
       "      <td>палладий</td>\n",
       "      <td>сплав</td>\n",
       "      <td>медь</td>\n",
       "    </tr>\n",
       "    <tr>\n",
       "      <th>3</th>\n",
       "      <td>НЕКРОФИЛ</td>\n",
       "      <td>педофил</td>\n",
       "      <td>извращенец</td>\n",
       "      <td>мазохист</td>\n",
       "      <td>вид</td>\n",
       "      <td>человек</td>\n",
       "    </tr>\n",
       "    <tr>\n",
       "      <th>4</th>\n",
       "      <td>НЕЛИКВИДНОСТЬ</td>\n",
       "      <td>деньги</td>\n",
       "      <td>дефляция</td>\n",
       "      <td>дебитор</td>\n",
       "      <td>платежи</td>\n",
       "      <td>погашение</td>\n",
       "    </tr>\n",
       "  </tbody>\n",
       "</table>\n",
       "</div>"
      ],
      "text/plain": [
       "              HYPONYM        HYPERNYM  HYPERNYM.1        HYPERNYM.2  \\\n",
       "0  НЕДОФИНАНСИРОВАНИЕ  финансирование     финансы            деньги   \n",
       "1           НЕЗАБУДКА        растения       трава  садовые растения   \n",
       "2          НЕЙЗИЛЬБЕР        бериллий      золото          палладий   \n",
       "3            НЕКРОФИЛ         педофил  извращенец          мазохист   \n",
       "4       НЕЛИКВИДНОСТЬ          деньги    дефляция           дебитор   \n",
       "\n",
       "  HYPERNYM.3                HYPERNYM.4  \n",
       "0   нехватка        отсутствие средств  \n",
       "1   болотная  однолетняя и многолетняя  \n",
       "2      сплав                      медь  \n",
       "3        вид                   человек  \n",
       "4    платежи                 погашение  "
      ]
     },
     "execution_count": 20,
     "metadata": {},
     "output_type": "execute_result"
    }
   ],
   "source": [
    "homework_data = pd.read_excel('Data.xlsx', shoot_name='sheet1')\n",
    "homework_data.head()"
   ]
  },
  {
   "cell_type": "code",
   "execution_count": 21,
   "metadata": {},
   "outputs": [
    {
     "name": "stdout",
     "output_type": "stream",
     "text": [
      "Hypernym for word:  НЕДОФИНАНСИРОВАНИЕ\n",
      "\n",
      "\n",
      "Челябинскии метрополитен — строящаяся система линии метрополитена в Челябинске, которая станет девятнадцатои на территории бывшего СССР, девятои в России и второи на Урале после Екатеринбургского метрополитена. Строительство ведется с 1992 года медленными темпами в связи с хроническим недофинансированием проекта, вследствие чего примерные сроки запуска системы неизвестны.\n",
      "Пусковои участок длинои 5,7 км (со съездом в депо — 6,8 км) будет состоять из четырех станции, а его годовои пассажиропоток должен составить 65 млн человек с увеличением в перспективе до 137,8 млн. С 1992 года построены станции «Комсомольская площадь» и «Торговыи центр» без отделочных работ (в черновом варианте), в то время как строительство остальных двух станции и электродепо не начиналось. Общая готовность метрополитена составляет лишь 20 %.\n",
      "\n",
      "\n",
      "\n",
      "Hypernym for word:  НЕЗАБУДКА\n",
      "\n",
      "\n",
      "Незабудка (лат. Myosotis, от др.-гр. «мышиное ухо») — род травянистых растении семеиства Бурачниковые (Boraginaceae). Некоторые виды культивируют в качестве красивоцветущих садовых растении.\n",
      "\n",
      "\n",
      "\n",
      "Hypernym for word:  НЕЙЗИЛЬБЕР\n",
      "\n",
      "\n",
      "Неизильбер (от нем. Neusilber — «новое серебро») — сплав меди с 5—35 % никеля и 13—45 % цинка. Благодаря содержанию цинка сплав несколько дешевле аналогичного по внешнему виду и механическим своиствам мельхиора.\n",
      "Характеризуется коррозионнои устоичивостью, повышеннои прочностью и упругостью при деформации, удовлетворительнои пластичностью в горячем и холодном состоянии. Имеет серебристыи цвет. Легируют свинцом для лучшеи механическои обработки. Плотность — от 8,1 до 8,7 г/см³; температура плавления — около 900 °C.\n",
      "\n",
      "\n",
      "\n",
      "Hypernym for word:  НЕКРОФИЛ\n",
      "\n",
      "\n",
      "Некрофилия (от др.-греч. νεκρος — «мертвыи» и φιλια — «любовь»), или труположество, — любовь ко всему мертвому, в многочисленнои литературе выраженная как парафилия, являющаяся половым влечением к трупам, что является только частным случаем. Может рассматриваться в том числе как разновидность фетишизма или как самостоятельное расстроиство полового предпочтения. Является противоположностью биофилии.\n",
      "\n",
      "\n",
      "\n",
      "Hypernym for word:  НЕЛИКВИДНОСТЬ\n",
      "\n",
      "\n",
      "Ставка дисконтирования — это процентная ставка, используемая для пересчета будущих потоков доходов в единую величину текущеи стоимости.\n",
      "Ставка дисконтирования применяется при расчете дисконтированнои стоимости будущих денежных потоков NPV.\n",
      "\n",
      "  \n",
      "    \n",
      "      \n",
      "        N\n",
      "        P\n",
      "        V\n",
      "        =\n",
      "        \n",
      "          ∑\n",
      "          \n",
      "            t\n",
      "            =\n",
      "            0\n",
      "          \n",
      "          \n",
      "            N\n",
      "          \n",
      "        \n",
      "        \n",
      "          \n",
      "            \n",
      "              C\n",
      "              \n",
      "                F\n",
      "                \n",
      "                  t\n",
      "                \n",
      "              \n",
      "            \n",
      "            \n",
      "              (\n",
      "              1\n",
      "              +\n",
      "              i\n",
      "              \n",
      "                )\n",
      "                \n",
      "                  t\n",
      "                \n",
      "              \n",
      "            \n",
      "          \n",
      "        \n",
      "        =\n",
      "        −\n",
      "        I\n",
      "        C\n",
      "        +\n",
      "        \n",
      "          ∑\n",
      "          \n",
      "            t\n",
      "            =\n",
      "            1\n",
      "          \n",
      "          \n",
      "            N\n",
      "          \n",
      "        \n",
      "        \n",
      "          \n",
      "            \n",
      "              C\n",
      "              \n",
      "                F\n",
      "                \n",
      "                  t\n",
      "                \n",
      "              \n",
      "            \n",
      "            \n",
      "              (\n",
      "              1\n",
      "              +\n",
      "              i\n",
      "              \n",
      "                )\n",
      "                \n",
      "                  t\n",
      "                \n",
      "              \n",
      "            \n",
      "          \n",
      "        \n",
      "      \n",
      "    \n",
      "    {\\displaystyle NPV=\\sum _{t=0}^{N}{\\frac {CF_{t}}{(1+i)^{t}}}=-IC+\\sum _{t=1}^{N}{\\frac {CF_{t}}{(1+i)^{t}}}}\n",
      "  ,\n",
      "где \n",
      "  \n",
      "    \n",
      "      \n",
      "        i\n",
      "      \n",
      "    \n",
      "    {\\displaystyle i}\n",
      "   — ставка дисконтирования.\n",
      "Ставка дисконтирования — переменная величина, зависящая от ряда факторов \n",
      "  \n",
      "    \n",
      "      \n",
      "        i\n",
      "        =\n",
      "        f\n",
      "        (\n",
      "        \n",
      "          i\n",
      "          \n",
      "            1\n",
      "          \n",
      "        \n",
      "        ,\n",
      "        .\n",
      "        .\n",
      "        .\n",
      "        ,\n",
      "        \n",
      "          i\n",
      "          \n",
      "            n\n",
      "          \n",
      "        \n",
      "        )\n",
      "      \n",
      "    \n",
      "    {\\displaystyle i=f(i_{1},...,i_{n})}\n",
      "  ,\n",
      "где \n",
      "  \n",
      "    \n",
      "      \n",
      "        (\n",
      "        \n",
      "          i\n",
      "          \n",
      "            1\n",
      "          \n",
      "        \n",
      "        ,\n",
      "        .\n",
      "        .\n",
      "        .\n",
      "        ,\n",
      "        \n",
      "          i\n",
      "          \n",
      "            n\n",
      "          \n",
      "        \n",
      "        )\n",
      "      \n",
      "    \n",
      "    {\\displaystyle (i_{1},...,i_{n})}\n",
      "   — факторы, влияющие на будущие денежные потоки, которые определяются индивидуально для каждого инвестиционного проекта:\n",
      "\n",
      "  \n",
      "    \n",
      "      \n",
      "        \n",
      "          i\n",
      "          \n",
      "            1\n",
      "          \n",
      "        \n",
      "      \n",
      "    \n",
      "    {\\displaystyle i_{1}}\n",
      "   — стоимость альтернативного вложения средств на данныи период, будь-то: ставка банковского процента по депозитам, ставка рефинансирования, средняя доходность уже имеющегося бизнеса и т. д.;\n",
      "\n",
      "  \n",
      "    \n",
      "      \n",
      "        \n",
      "          i\n",
      "          \n",
      "            2\n",
      "          \n",
      "        \n",
      "      \n",
      "    \n",
      "    {\\displaystyle i_{2}}\n",
      "   — оценка уровня инфляции на выбранныи период, как оценка стоимости риска обесценивания средств за период.\n",
      "\n",
      "\n",
      "\n",
      "Hypernym for word:  НЕОДИМ\n",
      "\n",
      "\n",
      "Неодим — химическии элемент, редкоземельныи металл серебристо-белого цвета с золотистым оттенком. Относится к группе лантаноидов. Легко окисляется на воздухе. Открыт в 1885 году австрииским химиком Карлом Ауэром фон Вельсбахом. Используется как компонент сплавов с алюминием и магнием для самолето- и ракетостроения.\n",
      "\n",
      "\n",
      "\n",
      "Hypernym for word:  НЕОКОЛОНИАЛИЗМ\n",
      "\n",
      "\n",
      "Неоколониализм — система подчинения и эксплуатации развитыми капиталистическими государствами молодых неразвитых стран и экономик, в том числе недавно освободившихся из колониальнои политическои зависимости, с помощью неравноправных экономических и прямых военно-политических отношении и договоров в связи с полнои несостоятельностью прежнеи колониальнои системы и краха колониальных империи как результата возникновения и развития СССР и стран социалистического лагеря. Вторично «расцвел» после «разгрома соцстран» (Ф.Кастро) и Советского Союза в 1990-е и нулевые годы.\n",
      "\n",
      "\n",
      "\n",
      "Hypernym for word:  НЕПРИСОЕДИНЕНИЕ\n",
      "\n",
      "\n",
      "Движение неприсоединения (англ. Non-Alignment Movement) — международная организация, объединяющая 120 государств мира на принципах неучастия в военных блоках (под которыми на момент основания организации подразумевались, прежде всего, Организация Североатлантического договора (НАТО) и Организация Варшавского договора, а также Организация Центрального Договора, Организация Договора Юго-Восточнои Азии, АНЗЮС и т. п.).\n",
      "Движение неприсоединения официально создано на Белградскои конференции в сентябре 1961 года. Созданию Движения предшествовали Бандунгская конференция 1955 года, трехсторонние консультации Иосипа Броза Тито, Гамаля Абдель Насера и Джавахарлала Неру в 1956 году, а также поездка Тито по странам Азии и Африки в начале 1961 года на корабле «Галеб».\n",
      "\n",
      "\n",
      "\n",
      "Hypernym for word:  НЕРЕСТИЛИЩЕ\n",
      "\n",
      "\n",
      "Нерест — процесс спаривания и оплодотворение икры молоками самцов у рыб и земноводных.\n",
      "Обычно происходит в определенных местах (на нерестилищах). У многих рыб во время нереста появляется брачныи наряд. Некоторые рыбы (проходные) для нереста идут из моря в реки (лососевые, осетровые) или из рек в моря (речнои угорь).\n",
      "Нарушение нерестилищ в результате загрязнении, строительства ГЭС и т.п. привело (например, на Волге и других реках) к сокращению численности многих, в том числе ценных, видов рыб.\n",
      "Во время нереста может запрещаться рыбалка. После откладывания икры у представителеи некоторых групп (например, лососевых рыб) родители погибают.\n",
      "Некоторые группы рыб (в частности, многие окунеобразные) проявляют заботу о потомстве — охраняют икру и вышедших из нее личинок. Представители семеиства цихловых охраняют и мальков. Большинство же видов рыб заботы о потомстве не проявляет и в условиях аквариума поедают собственную икру.\n",
      "\n",
      "\n",
      "\n",
      "\n",
      "\n",
      "Hypernym for word:  НЕСВАРЕНИЕ\n",
      "\n",
      "\n",
      "Диспепсия (от др.-греч. δυσ- — приставка, отрицающая положительныи смысл слова и πεψις — пищеварение; простореч. несварение) — нарушение нормальнои деятельности желудка, затрудненное и болезненное пищеварение. Синдром диспепсии определяется как ощущение боли или дискомфорта (тяжесть, переполнение, раннее насыщение) в эпигастральнои (подложечнои) области ближе к срединнои линии.\n",
      "\n",
      "\n",
      "\n",
      "Hypernym for word:  НЕСООБЩЕНИЕ\n",
      "\n",
      "\n",
      "Клад — зарытые в земле или спрятанные иным способом деньги или ценные предметы, владелец которых неизвестен и не может быть наиден, или же потерял на них право.\n",
      "\n",
      "\n",
      "\n",
      "Hypernym for word:  НЕСУДИМОСТЬ\n",
      "\n",
      "\n",
      "Преступление (уголовное преступление) — правонарушение (общественно опасное деяние), совершение которого влечет применение к лицу мер уголовнои ответственности. Преступления могут выделяться из общеи массы правонарушении по формальному признаку (установление за них уголовного наказания, запрещенность уголовным законом), а также по материальному признаку (высокая степень опасности их для общества, существенность причиняемых ими нарушении правопорядка).\n",
      "Преступление в самом общем понимании представляет собои форму делинквентного (преступного) поведения человека. По словам Н. С. Таганцева:\n",
      "\n",
      "Как показывает само наименование «преступление»… такое деяние должно заключать в себе переход, преступление за какои-то предел, отклонение или разрушение чего-либо.\n",
      "\n",
      "Современные уголовные кодексы содержат либо чисто формальное («преступление — деяние, запрещенное уголовным законом под угрозои наказания»), либо формально-материальное определение преступления, включая в него также признак общественнои опасности. Кроме того, в странах, использующих принцип субъективного вменения (например в России), в это понятие добавляется признак виновности.\n",
      "\n",
      "\n",
      "\n",
      "Hypernym for word:  НЕФРОЛОГИЯ\n",
      "\n",
      "\n",
      "Нефрология (от др.-греч. νεφρος — «почка», и λογος — «учение») — область медицины, изучающая функции и болезни почек. На другом полюсе дифференциальнои диагностики находится нефрохирургия и урология.\n",
      "\n",
      "\n",
      "\n",
      "Hypernym for word:  НЕЯСЫТЬ\n",
      "\n",
      "\n",
      "Неясыти (лат. Strix) — род птиц семеиства совиных.\n",
      "\n",
      "\n",
      "\n",
      "Hypernym for word:  НИГИЛИСТ\n",
      "\n",
      "\n",
      "Нигилизм (от лат. nihil — ничто) — философия, ставящая под сомнение (в краинеи своеи форме абсолютно отрицающая) общепринятые ценности, идеалы, нормы нравственности, культуры. Нигилизм в общем смысле подразумевает под собои отрицание, негативное отношение к определенным или даже ко всем сторонам общественнои жизни. В словарях определяется также как «отрицание», «абсолютное отрицание», «социально-нравственное явление», «умонастроение», то есть определение нигилизма и его проявление в разное время зависело от культурно-историческои эпохи, субъективно и контекстуально зависимо.\n",
      "\n",
      "\n",
      "\n",
      "Hypernym for word:  НИКАБ\n",
      "\n",
      "\n",
      "Никаб (араб. نقاب‎ «покрывало») — мусульманскии женскии головнои убор, закрывающии лицо, с узкои прорезью для глаз. Как правило, изготавливается из ткани черного цвета.\n",
      "Никаб следует отличать от других женских мусульманских головных уборов, закрывающих лицо, например, от распространеннои в Среднеи Азии и Афганистане паранджи.\n",
      "Ношение одежды, скрывающеи лицо, практикуется по разным причинам, среди которых местные традиции и обычаи, защита лица от песка, пыли, яркого света (в жарких странах).\n",
      "\n",
      "\n",
      "\n",
      "Hypernym for word:  НИСХОЖДЕНИЕ\n",
      "\n",
      "\n",
      "Катод (от греч. καθοδος «ход вниз; нисхождение») — электрод некоторого прибора, из которого вытекает электрическии ток (в его конвенциональном понимании как поток положительных зарядов), в противоположность аноду в которыи он втекает.\n",
      "\n",
      "\n",
      "\n",
      "Hypernym for word:  НИТРОГЛИЦЕРИН\n",
      "\n",
      "\n",
      "Нитроглицерин (1,2,3-тринитроксипропан; также глицеринтринитрат, тринитроглицерин, тринитрин, НГЦ) — органическое соединение, сложныи эфир глицерина и азотнои кислоты.\n",
      "Исторически сложившееся русское название «нитроглицерин» с точки зрения современнои номенклатуры является некорректным, поскольку нитроглицерин является не нитросоединением, а нитроэфиром (эфиром азотнои кислоты). В терминах номенклатуры IUPAC имеет наименование 1,2,3-тринитроксипропан. Химическая формула O2NOCH2CH(ONO2)CH2ONO2.\n",
      "Широко известен благодаря своим взрывчатым и лекарственным своиствам. Впервые синтезирован итальянским химиком Асканио Собреро в 1847 году, первоначально был назван «пироглицерин» (итал. pyroglycerina).\n",
      "\n",
      "\n",
      "\n",
      "Hypernym for word:  НОМИНАТОР\n",
      "\n",
      "\n"
     ]
    },
    {
     "ename": "PageError",
     "evalue": "Page id \"номинантов\" does not match any pages. Try another id!",
     "output_type": "error",
     "traceback": [
      "\u001b[1;31m---------------------------------------------------------------------------\u001b[0m",
      "\u001b[1;31mPageError\u001b[0m                                 Traceback (most recent call last)",
      "\u001b[1;32m<ipython-input-21-fc385fc78b13>\u001b[0m in \u001b[0;36m<module>\u001b[1;34m\u001b[0m\n\u001b[0;32m      2\u001b[0m     \u001b[0mprint\u001b[0m\u001b[1;33m(\u001b[0m\u001b[1;34m'Hypernym for word: '\u001b[0m\u001b[1;33m,\u001b[0m \u001b[0mword\u001b[0m\u001b[1;33m)\u001b[0m\u001b[1;33m\u001b[0m\u001b[1;33m\u001b[0m\u001b[0m\n\u001b[0;32m      3\u001b[0m     \u001b[0mprint\u001b[0m\u001b[1;33m(\u001b[0m\u001b[1;34m'\\n'\u001b[0m\u001b[1;33m)\u001b[0m\u001b[1;33m\u001b[0m\u001b[1;33m\u001b[0m\u001b[0m\n\u001b[1;32m----> 4\u001b[1;33m     \u001b[0mget_hyperonyms\u001b[0m\u001b[1;33m(\u001b[0m\u001b[0mword\u001b[0m\u001b[1;33m)\u001b[0m\u001b[1;33m\u001b[0m\u001b[1;33m\u001b[0m\u001b[0m\n\u001b[0m\u001b[0;32m      5\u001b[0m     \u001b[0mprint\u001b[0m\u001b[1;33m(\u001b[0m\u001b[1;34m'\\n\\n'\u001b[0m\u001b[1;33m)\u001b[0m\u001b[1;33m\u001b[0m\u001b[1;33m\u001b[0m\u001b[0m\n",
      "\u001b[1;32m<ipython-input-14-f5646b675834>\u001b[0m in \u001b[0;36mget_hyperonyms\u001b[1;34m(main_word)\u001b[0m\n\u001b[0;32m      8\u001b[0m     )\n\u001b[0;32m      9\u001b[0m     \u001b[0mparser\u001b[0m \u001b[1;33m=\u001b[0m \u001b[0mParser\u001b[0m\u001b[1;33m(\u001b[0m\u001b[0mRULE\u001b[0m\u001b[1;33m)\u001b[0m\u001b[1;33m\u001b[0m\u001b[1;33m\u001b[0m\u001b[0m\n\u001b[1;32m---> 10\u001b[1;33m     \u001b[0mtext\u001b[0m \u001b[1;33m=\u001b[0m \u001b[0mutils\u001b[0m\u001b[1;33m.\u001b[0m\u001b[0mdeaccent\u001b[0m\u001b[1;33m(\u001b[0m\u001b[0mwikipedia\u001b[0m\u001b[1;33m.\u001b[0m\u001b[0msummary\u001b[0m\u001b[1;33m(\u001b[0m\u001b[0mmain_word\u001b[0m\u001b[1;33m)\u001b[0m\u001b[1;33m)\u001b[0m\u001b[1;33m\u001b[0m\u001b[1;33m\u001b[0m\u001b[0m\n\u001b[0m\u001b[0;32m     11\u001b[0m     \u001b[0mprint\u001b[0m\u001b[1;33m(\u001b[0m\u001b[0mtext\u001b[0m\u001b[1;33m)\u001b[0m\u001b[1;33m\u001b[0m\u001b[1;33m\u001b[0m\u001b[0m\n\u001b[0;32m     12\u001b[0m     \u001b[0mtext\u001b[0m \u001b[1;33m=\u001b[0m \u001b[0mre\u001b[0m\u001b[1;33m.\u001b[0m\u001b[0msub\u001b[0m\u001b[1;33m(\u001b[0m\u001b[1;34mr'\\(.+?\\)'\u001b[0m\u001b[1;33m,\u001b[0m \u001b[1;34m''\u001b[0m\u001b[1;33m,\u001b[0m \u001b[0mtext\u001b[0m\u001b[1;33m)\u001b[0m\u001b[1;33m\u001b[0m\u001b[1;33m\u001b[0m\u001b[0m\n",
      "\u001b[1;32m~\\Anaconda3\\lib\\site-packages\\wikipedia\\util.py\u001b[0m in \u001b[0;36m__call__\u001b[1;34m(self, *args, **kwargs)\u001b[0m\n\u001b[0;32m     26\u001b[0m       \u001b[0mret\u001b[0m \u001b[1;33m=\u001b[0m \u001b[0mself\u001b[0m\u001b[1;33m.\u001b[0m\u001b[0m_cache\u001b[0m\u001b[1;33m[\u001b[0m\u001b[0mkey\u001b[0m\u001b[1;33m]\u001b[0m\u001b[1;33m\u001b[0m\u001b[1;33m\u001b[0m\u001b[0m\n\u001b[0;32m     27\u001b[0m     \u001b[1;32melse\u001b[0m\u001b[1;33m:\u001b[0m\u001b[1;33m\u001b[0m\u001b[1;33m\u001b[0m\u001b[0m\n\u001b[1;32m---> 28\u001b[1;33m       \u001b[0mret\u001b[0m \u001b[1;33m=\u001b[0m \u001b[0mself\u001b[0m\u001b[1;33m.\u001b[0m\u001b[0m_cache\u001b[0m\u001b[1;33m[\u001b[0m\u001b[0mkey\u001b[0m\u001b[1;33m]\u001b[0m \u001b[1;33m=\u001b[0m \u001b[0mself\u001b[0m\u001b[1;33m.\u001b[0m\u001b[0mfn\u001b[0m\u001b[1;33m(\u001b[0m\u001b[1;33m*\u001b[0m\u001b[0margs\u001b[0m\u001b[1;33m,\u001b[0m \u001b[1;33m**\u001b[0m\u001b[0mkwargs\u001b[0m\u001b[1;33m)\u001b[0m\u001b[1;33m\u001b[0m\u001b[1;33m\u001b[0m\u001b[0m\n\u001b[0m\u001b[0;32m     29\u001b[0m \u001b[1;33m\u001b[0m\u001b[0m\n\u001b[0;32m     30\u001b[0m     \u001b[1;32mreturn\u001b[0m \u001b[0mret\u001b[0m\u001b[1;33m\u001b[0m\u001b[1;33m\u001b[0m\u001b[0m\n",
      "\u001b[1;32m~\\Anaconda3\\lib\\site-packages\\wikipedia\\wikipedia.py\u001b[0m in \u001b[0;36msummary\u001b[1;34m(title, sentences, chars, auto_suggest, redirect)\u001b[0m\n\u001b[0;32m    229\u001b[0m   \u001b[1;31m# use auto_suggest and redirect to get the correct article\u001b[0m\u001b[1;33m\u001b[0m\u001b[1;33m\u001b[0m\u001b[1;33m\u001b[0m\u001b[0m\n\u001b[0;32m    230\u001b[0m   \u001b[1;31m# also, use page's error checking to raise DisambiguationError if necessary\u001b[0m\u001b[1;33m\u001b[0m\u001b[1;33m\u001b[0m\u001b[1;33m\u001b[0m\u001b[0m\n\u001b[1;32m--> 231\u001b[1;33m   \u001b[0mpage_info\u001b[0m \u001b[1;33m=\u001b[0m \u001b[0mpage\u001b[0m\u001b[1;33m(\u001b[0m\u001b[0mtitle\u001b[0m\u001b[1;33m,\u001b[0m \u001b[0mauto_suggest\u001b[0m\u001b[1;33m=\u001b[0m\u001b[0mauto_suggest\u001b[0m\u001b[1;33m,\u001b[0m \u001b[0mredirect\u001b[0m\u001b[1;33m=\u001b[0m\u001b[0mredirect\u001b[0m\u001b[1;33m)\u001b[0m\u001b[1;33m\u001b[0m\u001b[1;33m\u001b[0m\u001b[0m\n\u001b[0m\u001b[0;32m    232\u001b[0m   \u001b[0mtitle\u001b[0m \u001b[1;33m=\u001b[0m \u001b[0mpage_info\u001b[0m\u001b[1;33m.\u001b[0m\u001b[0mtitle\u001b[0m\u001b[1;33m\u001b[0m\u001b[1;33m\u001b[0m\u001b[0m\n\u001b[0;32m    233\u001b[0m   \u001b[0mpageid\u001b[0m \u001b[1;33m=\u001b[0m \u001b[0mpage_info\u001b[0m\u001b[1;33m.\u001b[0m\u001b[0mpageid\u001b[0m\u001b[1;33m\u001b[0m\u001b[1;33m\u001b[0m\u001b[0m\n",
      "\u001b[1;32m~\\Anaconda3\\lib\\site-packages\\wikipedia\\wikipedia.py\u001b[0m in \u001b[0;36mpage\u001b[1;34m(title, pageid, auto_suggest, redirect, preload)\u001b[0m\n\u001b[0;32m    274\u001b[0m         \u001b[1;31m# if there is no suggestion or search results, the page doesn't exist\u001b[0m\u001b[1;33m\u001b[0m\u001b[1;33m\u001b[0m\u001b[1;33m\u001b[0m\u001b[0m\n\u001b[0;32m    275\u001b[0m         \u001b[1;32mraise\u001b[0m \u001b[0mPageError\u001b[0m\u001b[1;33m(\u001b[0m\u001b[0mtitle\u001b[0m\u001b[1;33m)\u001b[0m\u001b[1;33m\u001b[0m\u001b[1;33m\u001b[0m\u001b[0m\n\u001b[1;32m--> 276\u001b[1;33m     \u001b[1;32mreturn\u001b[0m \u001b[0mWikipediaPage\u001b[0m\u001b[1;33m(\u001b[0m\u001b[0mtitle\u001b[0m\u001b[1;33m,\u001b[0m \u001b[0mredirect\u001b[0m\u001b[1;33m=\u001b[0m\u001b[0mredirect\u001b[0m\u001b[1;33m,\u001b[0m \u001b[0mpreload\u001b[0m\u001b[1;33m=\u001b[0m\u001b[0mpreload\u001b[0m\u001b[1;33m)\u001b[0m\u001b[1;33m\u001b[0m\u001b[1;33m\u001b[0m\u001b[0m\n\u001b[0m\u001b[0;32m    277\u001b[0m   \u001b[1;32melif\u001b[0m \u001b[0mpageid\u001b[0m \u001b[1;32mis\u001b[0m \u001b[1;32mnot\u001b[0m \u001b[1;32mNone\u001b[0m\u001b[1;33m:\u001b[0m\u001b[1;33m\u001b[0m\u001b[1;33m\u001b[0m\u001b[0m\n\u001b[0;32m    278\u001b[0m     \u001b[1;32mreturn\u001b[0m \u001b[0mWikipediaPage\u001b[0m\u001b[1;33m(\u001b[0m\u001b[0mpageid\u001b[0m\u001b[1;33m=\u001b[0m\u001b[0mpageid\u001b[0m\u001b[1;33m,\u001b[0m \u001b[0mpreload\u001b[0m\u001b[1;33m=\u001b[0m\u001b[0mpreload\u001b[0m\u001b[1;33m)\u001b[0m\u001b[1;33m\u001b[0m\u001b[1;33m\u001b[0m\u001b[0m\n",
      "\u001b[1;32m~\\Anaconda3\\lib\\site-packages\\wikipedia\\wikipedia.py\u001b[0m in \u001b[0;36m__init__\u001b[1;34m(self, title, pageid, redirect, preload, original_title)\u001b[0m\n\u001b[0;32m    297\u001b[0m       \u001b[1;32mraise\u001b[0m \u001b[0mValueError\u001b[0m\u001b[1;33m(\u001b[0m\u001b[1;34m\"Either a title or a pageid must be specified\"\u001b[0m\u001b[1;33m)\u001b[0m\u001b[1;33m\u001b[0m\u001b[1;33m\u001b[0m\u001b[0m\n\u001b[0;32m    298\u001b[0m \u001b[1;33m\u001b[0m\u001b[0m\n\u001b[1;32m--> 299\u001b[1;33m     \u001b[0mself\u001b[0m\u001b[1;33m.\u001b[0m\u001b[0m__load\u001b[0m\u001b[1;33m(\u001b[0m\u001b[0mredirect\u001b[0m\u001b[1;33m=\u001b[0m\u001b[0mredirect\u001b[0m\u001b[1;33m,\u001b[0m \u001b[0mpreload\u001b[0m\u001b[1;33m=\u001b[0m\u001b[0mpreload\u001b[0m\u001b[1;33m)\u001b[0m\u001b[1;33m\u001b[0m\u001b[1;33m\u001b[0m\u001b[0m\n\u001b[0m\u001b[0;32m    300\u001b[0m \u001b[1;33m\u001b[0m\u001b[0m\n\u001b[0;32m    301\u001b[0m     \u001b[1;32mif\u001b[0m \u001b[0mpreload\u001b[0m\u001b[1;33m:\u001b[0m\u001b[1;33m\u001b[0m\u001b[1;33m\u001b[0m\u001b[0m\n",
      "\u001b[1;32m~\\Anaconda3\\lib\\site-packages\\wikipedia\\wikipedia.py\u001b[0m in \u001b[0;36m__load\u001b[1;34m(self, redirect, preload)\u001b[0m\n\u001b[0;32m    343\u001b[0m     \u001b[1;32mif\u001b[0m \u001b[1;34m'missing'\u001b[0m \u001b[1;32min\u001b[0m \u001b[0mpage\u001b[0m\u001b[1;33m:\u001b[0m\u001b[1;33m\u001b[0m\u001b[1;33m\u001b[0m\u001b[0m\n\u001b[0;32m    344\u001b[0m       \u001b[1;32mif\u001b[0m \u001b[0mhasattr\u001b[0m\u001b[1;33m(\u001b[0m\u001b[0mself\u001b[0m\u001b[1;33m,\u001b[0m \u001b[1;34m'title'\u001b[0m\u001b[1;33m)\u001b[0m\u001b[1;33m:\u001b[0m\u001b[1;33m\u001b[0m\u001b[1;33m\u001b[0m\u001b[0m\n\u001b[1;32m--> 345\u001b[1;33m         \u001b[1;32mraise\u001b[0m \u001b[0mPageError\u001b[0m\u001b[1;33m(\u001b[0m\u001b[0mself\u001b[0m\u001b[1;33m.\u001b[0m\u001b[0mtitle\u001b[0m\u001b[1;33m)\u001b[0m\u001b[1;33m\u001b[0m\u001b[1;33m\u001b[0m\u001b[0m\n\u001b[0m\u001b[0;32m    346\u001b[0m       \u001b[1;32melse\u001b[0m\u001b[1;33m:\u001b[0m\u001b[1;33m\u001b[0m\u001b[1;33m\u001b[0m\u001b[0m\n\u001b[0;32m    347\u001b[0m         \u001b[1;32mraise\u001b[0m \u001b[0mPageError\u001b[0m\u001b[1;33m(\u001b[0m\u001b[0mpageid\u001b[0m\u001b[1;33m=\u001b[0m\u001b[0mself\u001b[0m\u001b[1;33m.\u001b[0m\u001b[0mpageid\u001b[0m\u001b[1;33m)\u001b[0m\u001b[1;33m\u001b[0m\u001b[1;33m\u001b[0m\u001b[0m\n",
      "\u001b[1;31mPageError\u001b[0m: Page id \"номинантов\" does not match any pages. Try another id!"
     ]
    }
   ],
   "source": [
    "for word in list(homework_data['HYPONYM']):\n",
    "    print('Hypernym for word: ', word)\n",
    "    print('\\n')\n",
    "    get_hyperonyms(word)\n",
    "    print('\\n\\n')"
   ]
  },
  {
   "cell_type": "code",
   "execution_count": null,
   "metadata": {},
   "outputs": [],
   "source": []
  }
 ],
 "metadata": {
  "kernelspec": {
   "display_name": "Python 3",
   "language": "python",
   "name": "python3"
  },
  "language_info": {
   "codemirror_mode": {
    "name": "ipython",
    "version": 3
   },
   "file_extension": ".py",
   "mimetype": "text/x-python",
   "name": "python",
   "nbconvert_exporter": "python",
   "pygments_lexer": "ipython3",
   "version": "3.7.4"
  }
 },
 "nbformat": 4,
 "nbformat_minor": 2
}
